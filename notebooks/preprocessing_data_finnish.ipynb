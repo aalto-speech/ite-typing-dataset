{
 "cells": [
  {
   "cell_type": "markdown",
   "metadata": {},
   "source": [
    "# Preprocessing Kirjoitustesti data"
   ]
  },
  {
   "cell_type": "code",
   "execution_count": 1,
   "metadata": {},
   "outputs": [],
   "source": [
    "import pandas as pd\n",
    "import numpy as np\n",
    "import csv"
   ]
  },
  {
   "cell_type": "markdown",
   "metadata": {},
   "source": [
    "## Select Users\n",
    "\n",
    "TODO: Clean BROWSER_STRING and USING_FEATURES"
   ]
  },
  {
   "cell_type": "code",
   "execution_count": 2,
   "metadata": {},
   "outputs": [
    {
     "name": "stdout",
     "output_type": "stream",
     "text": [
      "   PARTICIPANT_ID                                     BROWSER_STRING   DEVICE  \\\n",
      "0               1  Mozilla/5.0 (Macintosh; Intel Mac OS X 10_13_6...  desktop   \n",
      "1               2  Mozilla/5.0 (iPhone; CPU iPhone OS 12_4_1 like...   mobile   \n",
      "2               3  Mozilla/5.0 (iPhone; CPU iPhone OS 12_4_1 like...   mobile   \n",
      "3               4  Mozilla/5.0 (Macintosh; Intel Mac OS X 10_14_6...  desktop   \n",
      "4               5  Mozilla/5.0 (Macintosh; Intel Mac OS X 10_14_6...  desktop   \n",
      "\n",
      "   SCREEN_W  SCREEN_H  AGE  GENDER  HAS_TAKEN_TYPING_COURSE        WPM  \\\n",
      "0      1440       832   42    male                        0  55.698814   \n",
      "1       320       568   40    male                        1  51.143282   \n",
      "2       320       568   42    male                        0  44.001967   \n",
      "3      1440       836   29  female                        0  78.853701   \n",
      "4      1440       836   28  female                        0  46.384775   \n",
      "\n",
      "   ERROR_RATE NATIVE_LANGUAGE KEYBOARD_TYPE USING_APP          USING_FEATURES  \\\n",
      "0    0.000000              fi        laptop       NaN                      []   \n",
      "1   93.333333              sv        mobile     false  [\"swipe\",\"prediction\"]   \n",
      "2    1.113173              fi        mobile     false                  [\"no\"]   \n",
      "3    1.615385              fi        laptop       NaN                      []   \n",
      "4    1.036269              fi        laptop       NaN                      []   \n",
      "\n",
      "                        FINGERS  TIME_SPENT_TYPING TYPE_TEST_LANG  \n",
      "0   both_hands;other-nfingers;8                 10        usually  \n",
      "1             right_hand;thumbs                  3         rarely  \n",
      "2             both_hands;thumbs                  2        usually  \n",
      "3  both_hands;other-nfingers;10                  2         always  \n",
      "4   both_hands;other-nfingers;8                  2         always  \n",
      "PARTICIPANT_ID               int64\n",
      "BROWSER_STRING              object\n",
      "DEVICE                      object\n",
      "SCREEN_W                     int64\n",
      "SCREEN_H                     int64\n",
      "AGE                          int64\n",
      "GENDER                      object\n",
      "HAS_TAKEN_TYPING_COURSE      int64\n",
      "WPM                        float64\n",
      "ERROR_RATE                 float64\n",
      "NATIVE_LANGUAGE             object\n",
      "KEYBOARD_TYPE               object\n",
      "USING_APP                   object\n",
      "USING_FEATURES              object\n",
      "FINGERS                     object\n",
      "TIME_SPENT_TYPING            int64\n",
      "TYPE_TEST_LANG              object\n",
      "dtype: object\n"
     ]
    }
   ],
   "source": [
    "# Load participants\n",
    "\n",
    "participants = pd.read_csv('data/raw_data/typingtest_finnish_2020-06-03/raw_participants_fi_2020-06-03.csv')\n",
    "\n",
    "participants = participants[['PARTICIPANT_ID', 'BROWSER_STRING', 'DEVICE', 'SCREEN_W','SCREEN_H', 'AGE','GENDER', 'HAS_TAKEN_TYPING_COURSE','WPM','ERROR_RATE', 'NATIVE_LANGUAGE','KEYBOARD_TYPE','USING_APP', 'USING_FEATURES','FINGERS','TIME_SPENT_TYPING', 'TYPE_TEST_LANG']]\n",
    "\n",
    "print(participants.head())\n",
    "print(participants.head().dtypes)\n"
   ]
  },
  {
   "cell_type": "code",
   "execution_count": 3,
   "metadata": {},
   "outputs": [
    {
     "data": {
      "text/plain": [
       "22082"
      ]
     },
     "execution_count": 3,
     "metadata": {},
     "output_type": "execute_result"
    }
   ],
   "source": [
    "participants.shape[0]"
   ]
  },
  {
   "cell_type": "code",
   "execution_count": 4,
   "metadata": {},
   "outputs": [
    {
     "name": "stdout",
     "output_type": "stream",
     "text": [
      "(10299, 17)\n",
      "PARTICIPANT_ID                int64\n",
      "BROWSER_STRING               object\n",
      "DEVICE                     category\n",
      "SCREEN_W                      int64\n",
      "SCREEN_H                      int64\n",
      "AGE                           int64\n",
      "GENDER                     category\n",
      "HAS_TAKEN_TYPING_COURSE       int64\n",
      "WPM                         float64\n",
      "ERROR_RATE                  float64\n",
      "NATIVE_LANGUAGE            category\n",
      "KEYBOARD_TYPE              category\n",
      "USING_APP                  category\n",
      "USING_FEATURES             category\n",
      "FINGERS                    category\n",
      "TIME_SPENT_TYPING             int64\n",
      "TYPE_TEST_LANG             category\n",
      "dtype: object\n"
     ]
    }
   ],
   "source": [
    "# Select only mobile users\n",
    "participants_mobile = participants.loc[participants['KEYBOARD_TYPE'] == 'mobile']\n",
    "\n",
    "# Remove WPM != null\n",
    "participants_mobile = participants_mobile[participants_mobile.WPM.apply(lambda x: x != 'N')]\n",
    "\n",
    "\n",
    "# Change data types\n",
    "participants_mobile[[\"DEVICE\", \"GENDER\",'NATIVE_LANGUAGE','KEYBOARD_TYPE',\"USING_APP\", 'USING_FEATURES', 'FINGERS', 'TYPE_TEST_LANG']] = participants_mobile[[\"DEVICE\", \"GENDER\",'NATIVE_LANGUAGE','KEYBOARD_TYPE',\"USING_APP\", 'USING_FEATURES', 'FINGERS', 'TYPE_TEST_LANG']].astype('category')\n",
    "\n",
    "# 0 < WPM < 200, error_rate < 25%\n",
    "participants_mobile = participants_mobile.loc[participants_mobile['WPM'] > 0.]\n",
    "participants_mobile = participants_mobile.loc[participants_mobile['WPM'] < 200.]\n",
    "participants_mobile = participants_mobile.loc[participants_mobile['ERROR_RATE'] < 25.]\n",
    "\n",
    "# PARTICIPANT_ID > 4 : Testers\n",
    "participants_mobile = participants_mobile.loc[participants_mobile['PARTICIPANT_ID'] > 4]\n",
    "\n",
    "# Between ages 10 and 70 (most of the data is between this age group)\n",
    "participants_mobile = participants_mobile.loc[participants_mobile['AGE'] >= 10]\n",
    "participants_mobile = participants_mobile.loc[participants_mobile['AGE'] <= 70]\n",
    "\n",
    "\n",
    "print(participants_mobile.shape)\n",
    "\n",
    "print(participants_mobile.head().dtypes)"
   ]
  },
  {
   "cell_type": "code",
   "execution_count": null,
   "metadata": {},
   "outputs": [],
   "source": []
  },
  {
   "cell_type": "markdown",
   "metadata": {},
   "source": [
    "## Save CSV"
   ]
  },
  {
   "cell_type": "code",
   "execution_count": 5,
   "metadata": {},
   "outputs": [],
   "source": [
    "# Create new csv\n",
    "participants_mobile.to_csv('data/processed2020/finnish/participants.csv', index=False)"
   ]
  },
  {
   "cell_type": "markdown",
   "metadata": {},
   "source": [
    "# Select test_sections"
   ]
  },
  {
   "cell_type": "code",
   "execution_count": 6,
   "metadata": {},
   "outputs": [],
   "source": [
    "# Load data \n",
    "test_sections = pd.read_csv('data/raw_data/typingtest_finnish_2020-06-03/raw_test_sections_fi_2020-06-03.csv')"
   ]
  },
  {
   "cell_type": "code",
   "execution_count": 7,
   "metadata": {},
   "outputs": [
    {
     "name": "stdout",
     "output_type": "stream",
     "text": [
      "   TEST_SECTION_ID  SENTENCE_ID  PARTICIPANT_ID  \\\n",
      "0                1          317               1   \n",
      "1                2          421               1   \n",
      "2                3          545               1   \n",
      "3                4           81               1   \n",
      "4                5           18               1   \n",
      "\n",
      "                                          USER_INPUT  INPUT_LENGTH  \\\n",
      "0  Hänen mielestään päätökset olivat silloin hyvi...            61   \n",
      "1                     Norja oli vertailun paras maa.            30   \n",
      "2  Yksinäisiä poikia on enemmän yläkoulussa kuin ...            58   \n",
      "3                         Kohta pop up liikuntailta.            26   \n",
      "4        Ei tässä tarvitse todistella yhtään mitään.            43   \n",
      "\n",
      "   INPUT_TIME        WPM  ERROR_LENGTH  EDIT_DISTANCE  ERROR_RATE   DEVICE  \n",
      "0       13906  51.776212            61              0         0.0  desktop  \n",
      "1        5096  68.288854            30              0         0.0  desktop  \n",
      "2       14829  46.125835            58              0         0.0  desktop  \n",
      "3        5446  55.086302            26              0         0.0  desktop  \n",
      "4        8408  59.942912            43              0         0.0  desktop  \n",
      "TEST_SECTION_ID      int64\n",
      "SENTENCE_ID          int64\n",
      "PARTICIPANT_ID       int64\n",
      "USER_INPUT          object\n",
      "INPUT_LENGTH         int64\n",
      "INPUT_TIME           int64\n",
      "WPM                float64\n",
      "ERROR_LENGTH         int64\n",
      "EDIT_DISTANCE        int64\n",
      "ERROR_RATE         float64\n",
      "DEVICE              object\n",
      "dtype: object\n"
     ]
    }
   ],
   "source": [
    "print(test_sections.head())\n",
    "print(test_sections.dtypes)"
   ]
  },
  {
   "cell_type": "markdown",
   "metadata": {},
   "source": [
    "## Select users"
   ]
  },
  {
   "cell_type": "code",
   "execution_count": 8,
   "metadata": {},
   "outputs": [
    {
     "data": {
      "text/plain": [
       "10299"
      ]
     },
     "execution_count": 8,
     "metadata": {},
     "output_type": "execute_result"
    }
   ],
   "source": [
    "# List of participants\n",
    "users = participants_mobile['PARTICIPANT_ID'].tolist()\n",
    "\n",
    "# Select only test sections of selected participants\n",
    "test_sections_mobile = test_sections.loc[test_sections['PARTICIPANT_ID'].isin(users)]\n",
    "test_sections_mobile = test_sections_mobile[test_sections_mobile.WPM.apply(lambda x: x != 'N')]\n",
    "len(users)"
   ]
  },
  {
   "cell_type": "markdown",
   "metadata": {},
   "source": [
    "## Remove improper test sections and users"
   ]
  },
  {
   "cell_type": "code",
   "execution_count": 9,
   "metadata": {},
   "outputs": [
    {
     "data": {
      "text/plain": [
       "(179576, 11)"
      ]
     },
     "execution_count": 9,
     "metadata": {},
     "output_type": "execute_result"
    }
   ],
   "source": [
    "test_sections_mobile = test_sections_mobile.loc[test_sections_mobile['WPM'] > 0.]\n",
    "test_sections_mobile = test_sections_mobile.loc[test_sections_mobile['WPM'] < 200.]\n",
    "test_sections_mobile = test_sections_mobile.loc[test_sections_mobile['ERROR_RATE'] < 25.]\n",
    "test_sections_mobile.shape"
   ]
  },
  {
   "cell_type": "code",
   "execution_count": 10,
   "metadata": {},
   "outputs": [
    {
     "name": "stdout",
     "output_type": "stream",
     "text": [
      "9655\n",
      "1624\n"
     ]
    }
   ],
   "source": [
    "# Select only users who have done at least 15 sentences.\n",
    "selected_users = []\n",
    "users_over15ts = []\n",
    "for user in users:\n",
    "    user_tests = test_sections_mobile.loc[test_sections_mobile['PARTICIPANT_ID'] == int(user)]\n",
    "    num_tests = user_tests.shape[0]\n",
    "    if num_tests >= 15: \n",
    "        selected_users.append(user)\n",
    "        if num_tests > 15:\n",
    "            users_over15ts.append(user)\n",
    "    \n",
    "print(len(selected_users))\n",
    "print(len(users_over15ts))\n",
    "\n",
    "test_sections_mobile = test_sections_mobile.loc[test_sections_mobile['PARTICIPANT_ID'].isin(selected_users)]\n",
    "participants_mobile = participants_mobile.loc[participants_mobile['PARTICIPANT_ID'].isin(selected_users)]"
   ]
  },
  {
   "cell_type": "code",
   "execution_count": 11,
   "metadata": {},
   "outputs": [
    {
     "data": {
      "text/plain": [
       "(170858, 11)"
      ]
     },
     "execution_count": 11,
     "metadata": {},
     "output_type": "execute_result"
    }
   ],
   "source": [
    "test_sections_mobile.shape"
   ]
  },
  {
   "cell_type": "code",
   "execution_count": 12,
   "metadata": {
    "scrolled": true,
    "tags": []
   },
   "outputs": [
    {
     "data": {
      "text/plain": [
       "(144825, 11)"
      ]
     },
     "execution_count": 12,
     "metadata": {},
     "output_type": "execute_result"
    }
   ],
   "source": [
    "# Remove additional test sections (if participant has more than 15)\n",
    "remove_ts_ids = []\n",
    "for user in users_over15ts:\n",
    "    user_tests = test_sections_mobile.loc[test_sections_mobile['PARTICIPANT_ID'] == int(user)]\n",
    "    user_tests_list = user_tests['TEST_SECTION_ID'].tolist()\n",
    "    user_tests_list.sort()\n",
    "    for i in range(15,len(user_tests_list)):\n",
    "        remove_ts_ids.append(user_tests_list[i])\n",
    "        #print(i)\n",
    "    \n",
    "#remove ids from data frame\n",
    "test_sections_mobile.drop(test_sections_mobile.loc[test_sections_mobile['TEST_SECTION_ID'].isin(remove_ts_ids)].index, inplace = True)\n",
    "test_sections_mobile.shape"
   ]
  },
  {
   "cell_type": "code",
   "execution_count": 13,
   "metadata": {},
   "outputs": [
    {
     "name": "stdout",
     "output_type": "stream",
     "text": [
      "Mean: 44.218960591194424\n",
      "Number of test sections (144825, 11)\n"
     ]
    }
   ],
   "source": [
    "print(\"Mean:\", test_sections_mobile['WPM'].mean())\n",
    "print('Number of test sections', test_sections_mobile.shape)"
   ]
  },
  {
   "cell_type": "markdown",
   "metadata": {},
   "source": [
    "## Save CSV"
   ]
  },
  {
   "cell_type": "code",
   "execution_count": 14,
   "metadata": {},
   "outputs": [],
   "source": [
    "# Create new csv for TEST SECTIONS\n",
    "test_sections_mobile.to_csv('data/processed2020/finnish/test_sections.csv', index=False)"
   ]
  },
  {
   "cell_type": "code",
   "execution_count": 15,
   "metadata": {},
   "outputs": [],
   "source": [
    "# Create new csv for PARTICIPANTS\n",
    "participants_mobile.to_csv('data/processed2020/finnish/participants.csv', index=False)"
   ]
  },
  {
   "cell_type": "markdown",
   "metadata": {},
   "source": [
    "# Clean Logs\n"
   ]
  },
  {
   "cell_type": "code",
   "execution_count": 16,
   "metadata": {},
   "outputs": [],
   "source": [
    "# Selected test sections\n",
    "test_section_list = test_sections_mobile['TEST_SECTION_ID'].tolist()"
   ]
  },
  {
   "cell_type": "code",
   "execution_count": 22,
   "metadata": {
    "scrolled": true
   },
   "outputs": [],
   "source": [
    "# Read in chunks\n",
    "# Selects only usable test sections. Keeps only keyup events.\n",
    "\n",
    "first_chunk = True\n",
    "for chunk in pd.read_csv('data/raw_data/typingtest_finnish_2020-06-03/raw_log_data_fi_2020-06-03.csv', chunksize=1000000, low_memory=False):\n",
    "    #process(chunk)\n",
    "    \n",
    "    \n",
    "    #print(\"mem1 original\", chunk.memory_usage(index=True).sum())\n",
    "    # Transform data types\n",
    "    chunk[['LOG_DATA_ID', 'TEST_SECTION_ID']] = chunk[['LOG_DATA_ID', 'TEST_SECTION_ID']].apply(pd.to_numeric, downcast='integer')\n",
    "    chunk[['TIMESTAMP']] = chunk[['EVENT_TIMESTAMP']].apply(pd.to_numeric)\n",
    "    chunk[[\"EVENT_TYPE\", \"KEY\", \"EVENT_CODE\"]] = chunk[[\"EVENT_TYPE\", \"EVENT_KEY\", \"EVENT_CODE\"]].astype('category')\n",
    "    chunk[['INPUT']] = chunk[['INPUT_TEXT']]\n",
    "    \n",
    "    \n",
    "    #print(chunk.head().dtypes)\n",
    "    #print(\"mem2 data types\", chunk.memory_usage(index=True).sum())\n",
    "    \n",
    "        \n",
    "    # Select only wanted test sections\n",
    "    chunk = chunk.loc[chunk['TEST_SECTION_ID'].isin(test_section_list)]\n",
    "\n",
    "    #print(\"mem3 select test sections\", chunk.memory_usage(index=True).sum())\n",
    "    \n",
    "    # Write as CSV file with all input information.\n",
    "    #if first_chunk:\n",
    "    #    chunk.to_csv('data/processed2020/finnish/log_data_all.csv', mode='w',  index=False)\n",
    "    #    first_chunk = False\n",
    "    #else:\n",
    "    #    chunk.to_csv('data/processed2020/finnish/log_data_all.csv', mode='a',  index=False, header=None)\n",
    "    \n",
    "    \n",
    "    # Keep only keyups\n",
    "    # Todo: try other event types\n",
    "    chunk_filtered = chunk.loc[chunk['EVENT_TYPE'] == 'keyup']\n",
    "    \n",
    "    #print(\"mem4 only keyup\", chunk_filtered.memory_usage(index=True).sum())\n",
    "    \n",
    "    # Remove unnecessary columns.\n",
    "    chunk_filtered = chunk_filtered[['TEST_SECTION_ID', 'LOG_DATA_ID', 'TIMESTAMP', 'KEY', 'EVENT_CODE','INPUT']]\n",
    "    \n",
    "    #print(\"mem5 remove cols\", chunk_filtered.memory_usage(index=True).sum())\n",
    "    \n",
    "    # Remove improper test sections\n",
    "    chunk_filtered = chunk_filtered.loc[chunk_filtered['TEST_SECTION_ID'].isin(test_section_list)]\n",
    "    \n",
    "    # Order by TEST_SECTION_ID and TIMESTAMP (Order after creating new tables)\n",
    "    chunk_filtered.sort_values(by=['TEST_SECTION_ID','TIMESTAMP'])\n",
    "    \n",
    "    \n",
    "    # Write as CSV file.\n",
    "    if first_chunk:\n",
    "        chunk_filtered.to_csv('data/processed2020/finnish/log_data.csv', mode='w', index=False)\n",
    "        first_chunk = False\n",
    "    else:\n",
    "        chunk_filtered.to_csv('data/processed2020/finnish/log_data.csv', mode='a', index=False, header=None)\n",
    "\n",
    "    "
   ]
  },
  {
   "cell_type": "code",
   "execution_count": null,
   "metadata": {},
   "outputs": [],
   "source": []
  }
 ],
 "metadata": {
  "kernelspec": {
   "display_name": "Python 3",
   "language": "python",
   "name": "python3"
  },
  "language_info": {
   "codemirror_mode": {
    "name": "ipython",
    "version": 3
   },
   "file_extension": ".py",
   "mimetype": "text/x-python",
   "name": "python",
   "nbconvert_exporter": "python",
   "pygments_lexer": "ipython3",
   "version": "3.7.4"
  },
  "toc": {
   "base_numbering": 1,
   "nav_menu": {},
   "number_sections": true,
   "sideBar": true,
   "skip_h1_title": false,
   "title_cell": "Table of Contents",
   "title_sidebar": "Contents",
   "toc_cell": false,
   "toc_position": {},
   "toc_section_display": true,
   "toc_window_display": true
  },
  "varInspector": {
   "cols": {
    "lenName": 16,
    "lenType": 16,
    "lenVar": 40
   },
   "kernels_config": {
    "python": {
     "delete_cmd_postfix": "",
     "delete_cmd_prefix": "del ",
     "library": "var_list.py",
     "varRefreshCmd": "print(var_dic_list())"
    },
    "r": {
     "delete_cmd_postfix": ") ",
     "delete_cmd_prefix": "rm(",
     "library": "var_list.r",
     "varRefreshCmd": "cat(var_dic_list()) "
    }
   },
   "types_to_exclude": [
    "module",
    "function",
    "builtin_function_or_method",
    "instance",
    "_Feature"
   ],
   "window_display": false
  }
 },
 "nbformat": 4,
 "nbformat_minor": 4
}
