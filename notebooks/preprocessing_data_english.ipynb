{
 "cells": [
  {
   "cell_type": "markdown",
   "metadata": {},
   "source": [
    "# Preprocessing English typing test data"
   ]
  },
  {
   "cell_type": "code",
   "execution_count": 1,
   "metadata": {},
   "outputs": [],
   "source": [
    "import pandas as pd\n",
    "import numpy as np\n",
    "import csv"
   ]
  },
  {
   "cell_type": "markdown",
   "metadata": {},
   "source": [
    "## Select participants\n",
    "Select users who \n",
    "1. typed with mobile devices \n",
    "2. finished the whole test with 15 sentences "
   ]
  },
  {
   "cell_type": "code",
   "execution_count": 3,
   "metadata": {},
   "outputs": [
    {
     "name": "stdout",
     "output_type": "stream",
     "text": [
      "   PARTICIPANT_ID BROWSER DEVICE  SCREEN_W  SCREEN_H   AGE  GENDER  \\\n",
      "0             1.0  Chrome    NaN       NaN       NaN  23.0  female   \n",
      "1             2.0  Chrome    NaN       NaN       NaN   NaN     NaN   \n",
      "2             3.0  Chrome    NaN       NaN       NaN   NaN     NaN   \n",
      "3             4.0  Chrome    NaN       NaN       NaN   0.0    male   \n",
      "4             5.0  Chrome    NaN       NaN       NaN   0.0    none   \n",
      "\n",
      "   HAS_TAKEN_TYPING_COURSE        WPM  ERROR_RATE NATIVE_LANGUAGE  \\\n",
      "0                      0.0  40.532144    6.392694              ab   \n",
      "1                      NaN        NaN         NaN             NaN   \n",
      "2                      NaN        NaN         NaN             NaN   \n",
      "3                      1.0  22.469162    0.796813              ab   \n",
      "4                      1.0  18.685961    0.537634              ab   \n",
      "\n",
      "  KEYBOARD_TYPE USING_APP                   USING_FEATURES       FINGERS  \\\n",
      "0        mobile     false  [\"autocompletion\",\"prediction\"]         other   \n",
      "1           NaN       NaN                              NaN           NaN   \n",
      "2           NaN       NaN                              NaN           NaN   \n",
      "3        mobile     false                        [\"swipe\"]  1 hand thumb   \n",
      "4        mobile     false                        [\"swipe\"]  1 hand thumb   \n",
      "\n",
      "  TIME_SPENT_TYPING TYPE_ENGLISH  \n",
      "0               NaN          NaN  \n",
      "1               NaN          NaN  \n",
      "2               NaN          NaN  \n",
      "3               NaN          NaN  \n",
      "4               NaN          NaN  \n"
     ]
    },
    {
     "data": {
      "text/plain": [
       "399833"
      ]
     },
     "execution_count": 3,
     "metadata": {},
     "output_type": "execute_result"
    }
   ],
   "source": [
    "# Load participants\n",
    "participants = pd.read_csv('data/raw_data/typingtest_english_2020-06-03/raw_participants_en_2020-06-03.csv',quoting=2, quotechar='\"', escapechar='\\\\',na_values=['N'], encoding='ISO-8859-1', low_memory=False)\n",
    "\n",
    "participants = participants[['PARTICIPANT_ID', 'BROWSER', 'DEVICE', 'SCREEN_W','SCREEN_H', 'AGE','GENDER', 'HAS_TAKEN_TYPING_COURSE','WPM','ERROR_RATE', 'NATIVE_LANGUAGE','KEYBOARD_TYPE','USING_APP', 'USING_FEATURES','FINGERS','TIME_SPENT_TYPING', 'TYPE_ENGLISH']]\n",
    "\n",
    "print(participants.head())\n",
    "participants.shape[0]"
   ]
  },
  {
   "cell_type": "code",
   "execution_count": 8,
   "metadata": {},
   "outputs": [
    {
     "name": "stdout",
     "output_type": "stream",
     "text": [
      "     PARTICIPANT_ID                                            BROWSER  \\\n",
      "628           629.0  Mozilla/5.0 (Linux; Android 5.0.2; vivo Y51 Bu...   \n",
      "672           673.0  Mozilla/5.0 (Linux; Android 6.0; HTC One X9 du...   \n",
      "673           674.0  Mozilla/5.0 (iPhone; CPU iPhone OS 11_4_1 like...   \n",
      "685           686.0  Mozilla/5.0 (iPhone; CPU iPhone OS 12_0 like M...   \n",
      "687           688.0  Mozilla/5.0 (Linux; Android 5.1.1; A37f Build/...   \n",
      "\n",
      "     DEVICE  SCREEN_W  SCREEN_H   AGE  GENDER  HAS_TAKEN_TYPING_COURSE  \\\n",
      "628  mobile     360.0     640.0  20.0    male                      0.0   \n",
      "672  mobile     360.0     640.0  27.0  female                      0.0   \n",
      "673  mobile     375.0     667.0  24.0  female                      0.0   \n",
      "685  mobile     414.0     736.0  24.0    male                      0.0   \n",
      "687  mobile     360.0     640.0  27.0  female                      1.0   \n",
      "\n",
      "           WPM  ERROR_RATE NATIVE_LANGUAGE KEYBOARD_TYPE USING_APP  \\\n",
      "628  36.678613    0.934579              tl        mobile     false   \n",
      "672  39.869281    2.080000              ru        mobile    Gboard   \n",
      "673  37.904360    0.754936              sm        mobile     false   \n",
      "685  44.313359    1.265823              en        mobile     false   \n",
      "687  31.209363    0.925926              en        mobile  Touchpal   \n",
      "\n",
      "                      USING_FEATURES            FINGERS TIME_SPENT_TYPING  \\\n",
      "628                           [\"no\"]  both_hands;thumbs                 8   \n",
      "672  [\"prediction\",\"autocorrection\"]  both_hands;thumbs                 1   \n",
      "673                   [\"prediction\"]  both_hands;thumbs                24   \n",
      "685               [\"autocorrection\"]  both_hands;thumbs                 1   \n",
      "687                           [\"no\"]  both_hands;thumbs                 6   \n",
      "\n",
      "    TYPE_ENGLISH  \n",
      "628    sometimes  \n",
      "672      usually  \n",
      "673       always  \n",
      "685          NaN  \n",
      "687          NaN  \n",
      "PARTICIPANT_ID             float64\n",
      "BROWSER                     object\n",
      "DEVICE                      object\n",
      "SCREEN_W                   float64\n",
      "SCREEN_H                   float64\n",
      "AGE                        float64\n",
      "GENDER                      object\n",
      "HAS_TAKEN_TYPING_COURSE    float64\n",
      "WPM                        float64\n",
      "ERROR_RATE                 float64\n",
      "NATIVE_LANGUAGE             object\n",
      "KEYBOARD_TYPE               object\n",
      "USING_APP                   object\n",
      "USING_FEATURES              object\n",
      "FINGERS                     object\n",
      "TIME_SPENT_TYPING           object\n",
      "TYPE_ENGLISH                object\n",
      "dtype: object\n"
     ]
    }
   ],
   "source": [
    "# Select only mobile users\n",
    "participants_mobile = participants.loc[participants['KEYBOARD_TYPE'] == 'mobile']\n",
    "\n",
    "# Remove WPM != null\n",
    "participants_mobile = participants_mobile[participants_mobile.WPM.apply(lambda x: x != 'N')]\n",
    "\n",
    "\n",
    "# 0 < WPM < 200, error_rate < 25%\n",
    "participants_mobile = participants_mobile.loc[participants_mobile['WPM'] > 0.]\n",
    "participants_mobile = participants_mobile.loc[participants_mobile['WPM'] < 200.]\n",
    "participants_mobile = participants_mobile.loc[participants_mobile['ERROR_RATE'] < 25.]\n",
    "\n",
    "# PARTICIPANT_ID > 607 : Testers\n",
    "participants_mobile = participants_mobile.loc[participants_mobile['PARTICIPANT_ID'] > 607]\n",
    "\n",
    "# Between ages 10 and 70 (most of the data is between this age group)\n",
    "participants_mobile = participants_mobile.loc[participants_mobile['AGE'] >= 10]\n",
    "participants_mobile = participants_mobile.loc[participants_mobile['AGE'] <= 70]\n",
    "\n",
    "participants = participants[pd.notnull(participants[\"BROWSER\"])]\n",
    "\n",
    "print(participants_mobile.head())\n",
    "print(participants_mobile.head().dtypes)"
   ]
  },
  {
   "cell_type": "code",
   "execution_count": 9,
   "metadata": {},
   "outputs": [
    {
     "name": "stdout",
     "output_type": "stream",
     "text": [
      "(62198, 17)\n"
     ]
    }
   ],
   "source": [
    "print(participants_mobile.shape)"
   ]
  },
  {
   "cell_type": "code",
   "execution_count": 10,
   "metadata": {},
   "outputs": [],
   "source": [
    "# Create new csv\n",
    "participants_mobile.to_csv('data/processed2020/english/participants.csv', index=False)"
   ]
  },
  {
   "cell_type": "markdown",
   "metadata": {},
   "source": [
    "# Clean test sections\n",
    "\n",
    "Keep only selected participants.\n",
    "\n"
   ]
  },
  {
   "cell_type": "code",
   "execution_count": 11,
   "metadata": {},
   "outputs": [
    {
     "name": "stdout",
     "output_type": "stream",
     "text": [
      "   TEST_SECTION_ID  SENTENCE_ID  PARTICIPANT_ID  \\\n",
      "0              1.0        901.0             1.0   \n",
      "1              2.0       1348.0             1.0   \n",
      "2              3.0       1252.0             1.0   \n",
      "3              4.0        978.0             1.0   \n",
      "4              5.0        517.0             1.0   \n",
      "\n",
      "                                          USER_INPUT                 WPM  \\\n",
      "0                   It's not looking too good is it?  45.510154147296305   \n",
      "1  Once state owned, Telecom is now half owned by...   41.02665741750074   \n",
      "2  These factors dictate creak limits to the conc...  30.539446785431185   \n",
      "3                         I have forwarded to Kelly   57.361376673040155   \n",
      "4                        Thank to you soon, Gerrard    59.88483685220729   \n",
      "\n",
      "           ERROR_RATE INPUT_TIME EDIT_DISTANCE  \n",
      "0                   0       8174             0  \n",
      "1                   0      20182             0  \n",
      "2                6.25      23969             4  \n",
      "3  3.8461538461538463       5230             1  \n",
      "4   33.33333333333333       5210             9  \n"
     ]
    }
   ],
   "source": [
    "# Load test_sections table\n",
    "test_sections = pd.read_csv('data/raw_data/typingtest_english_2020-06-03/raw_test_sections_en_2020-06-03.csv', quoting=2, quotechar='\"', escapechar='\\\\', encoding='ISO-8859-1', low_memory=False)\n",
    "test_sections = test_sections[['TEST_SECTION_ID', 'SENTENCE_ID', 'PARTICIPANT_ID','USER_INPUT', 'WPM', 'ERROR_RATE', 'INPUT_TIME','EDIT_DISTANCE']]\n",
    "\n",
    "print(test_sections.head())"
   ]
  },
  {
   "cell_type": "code",
   "execution_count": 12,
   "metadata": {},
   "outputs": [
    {
     "name": "stdout",
     "output_type": "stream",
     "text": [
      "(1217652, 8)\n"
     ]
    }
   ],
   "source": [
    "# List of participants\n",
    "users = participants_mobile['PARTICIPANT_ID'].tolist()\n",
    "\n",
    "# Select only test sections of selected participants\n",
    "test_sections_mobile = test_sections.loc[test_sections['PARTICIPANT_ID'].isin(users)]\n",
    "test_sections_mobile = test_sections_mobile[test_sections_mobile.WPM.apply(lambda x: x != 'N')]\n",
    "print(test_sections_mobile.shape)"
   ]
  },
  {
   "cell_type": "code",
   "execution_count": 13,
   "metadata": {},
   "outputs": [],
   "source": [
    "# Change data types\n",
    "test_sections_mobile[['TEST_SECTION_ID', 'SENTENCE_ID', 'PARTICIPANT_ID']] = test_sections_mobile[['TEST_SECTION_ID', 'SENTENCE_ID', 'PARTICIPANT_ID']].apply(pd.to_numeric, downcast='integer')\n",
    "test_sections_mobile[[\"WPM\", \"ERROR_RATE\", 'INPUT_TIME','EDIT_DISTANCE']] = test_sections_mobile[[\"WPM\", \"ERROR_RATE\", 'INPUT_TIME','EDIT_DISTANCE']].apply(pd.to_numeric)"
   ]
  },
  {
   "cell_type": "code",
   "execution_count": 14,
   "metadata": {},
   "outputs": [
    {
     "name": "stdout",
     "output_type": "stream",
     "text": [
      "TEST_SECTION_ID      int32\n",
      "SENTENCE_ID          int16\n",
      "PARTICIPANT_ID       int32\n",
      "USER_INPUT          object\n",
      "WPM                float64\n",
      "ERROR_RATE         float64\n",
      "INPUT_TIME           int64\n",
      "EDIT_DISTANCE        int64\n",
      "dtype: object\n"
     ]
    }
   ],
   "source": [
    "#print(test_sections_mobile.head())\n",
    "print(test_sections_mobile.head().dtypes)"
   ]
  },
  {
   "cell_type": "markdown",
   "metadata": {},
   "source": [
    "## Remove improper test sections and users"
   ]
  },
  {
   "cell_type": "code",
   "execution_count": 15,
   "metadata": {},
   "outputs": [
    {
     "data": {
      "text/plain": [
       "(1204770, 8)"
      ]
     },
     "execution_count": 15,
     "metadata": {},
     "output_type": "execute_result"
    }
   ],
   "source": [
    "test_sections_mobile = test_sections_mobile.loc[test_sections_mobile['WPM'] > 0.]\n",
    "test_sections_mobile = test_sections_mobile.loc[test_sections_mobile['WPM'] < 200.]\n",
    "test_sections_mobile = test_sections_mobile.loc[test_sections_mobile['ERROR_RATE'] < 25.]\n",
    "test_sections_mobile.shape"
   ]
  },
  {
   "cell_type": "code",
   "execution_count": 16,
   "metadata": {},
   "outputs": [
    {
     "name": "stdout",
     "output_type": "stream",
     "text": [
      "57950\n",
      "14368\n"
     ]
    }
   ],
   "source": [
    "# Select only users who have done at least 15 sentences.\n",
    "selected_users = []\n",
    "users_over15ts = []\n",
    "for user in users:\n",
    "    user_tests = test_sections_mobile.loc[test_sections_mobile['PARTICIPANT_ID'] == int(user)]\n",
    "    num_tests = user_tests.shape[0]\n",
    "    if num_tests >= 15: \n",
    "        selected_users.append(user)\n",
    "        if num_tests > 15:\n",
    "            users_over15ts.append(user)\n",
    "    \n",
    "print(len(selected_users))\n",
    "print(len(users_over15ts))\n",
    "\n",
    "test_sections_mobile = test_sections_mobile.loc[test_sections_mobile['PARTICIPANT_ID'].isin(selected_users)]\n",
    "participants_mobile = participants_mobile.loc[participants_mobile['PARTICIPANT_ID'].isin(selected_users)]"
   ]
  },
  {
   "cell_type": "code",
   "execution_count": 17,
   "metadata": {},
   "outputs": [
    {
     "data": {
      "text/plain": [
       "(1147900, 8)"
      ]
     },
     "execution_count": 17,
     "metadata": {},
     "output_type": "execute_result"
    }
   ],
   "source": [
    "test_sections_mobile.shape"
   ]
  },
  {
   "cell_type": "code",
   "execution_count": 18,
   "metadata": {},
   "outputs": [
    {
     "data": {
      "text/plain": [
       "(869250, 8)"
      ]
     },
     "execution_count": 18,
     "metadata": {},
     "output_type": "execute_result"
    }
   ],
   "source": [
    "# Remove additional test sections (if participant has more than 15)\n",
    "remove_ts_ids = []\n",
    "for user in users_over15ts:\n",
    "    user_tests = test_sections_mobile.loc[test_sections_mobile['PARTICIPANT_ID'] == int(user)]\n",
    "    user_tests_list = user_tests['TEST_SECTION_ID'].tolist()\n",
    "    user_tests_list.sort()\n",
    "    for i in range(15,len(user_tests_list)):\n",
    "        remove_ts_ids.append(user_tests_list[i])\n",
    "        #print(i)\n",
    "    \n",
    "#remove ids from data frame\n",
    "test_sections_mobile.drop(test_sections_mobile.loc[test_sections_mobile['TEST_SECTION_ID'].isin(remove_ts_ids)].index, inplace = True)\n",
    "test_sections_mobile.shape"
   ]
  },
  {
   "cell_type": "code",
   "execution_count": 19,
   "metadata": {},
   "outputs": [
    {
     "name": "stdout",
     "output_type": "stream",
     "text": [
      "Mean: 41.31580577593401\n",
      "Number of test sections (869250, 8)\n"
     ]
    }
   ],
   "source": [
    "print(\"Mean:\", test_sections_mobile['WPM'].mean())\n",
    "print('Number of test sections', test_sections_mobile.shape)"
   ]
  },
  {
   "cell_type": "markdown",
   "metadata": {},
   "source": [
    "## Save CSV"
   ]
  },
  {
   "cell_type": "code",
   "execution_count": 20,
   "metadata": {},
   "outputs": [],
   "source": [
    "# Create new csv for TEST_SECTIONS\n",
    "test_sections_mobile.to_csv('data/processed2020/english/test_sections.csv', index=False)"
   ]
  },
  {
   "cell_type": "code",
   "execution_count": 21,
   "metadata": {},
   "outputs": [],
   "source": [
    "# Create new csv for PARTICIPANTS\n",
    "participants_mobile.to_csv('data/processed2020/english/participants.csv', index=False)"
   ]
  },
  {
   "cell_type": "markdown",
   "metadata": {},
   "source": [
    "# Clean logs\n",
    "\n"
   ]
  },
  {
   "cell_type": "code",
   "execution_count": 22,
   "metadata": {},
   "outputs": [],
   "source": [
    "# Selected test sections\n",
    "test_section_list = test_sections_mobile['TEST_SECTION_ID'].tolist()"
   ]
  },
  {
   "cell_type": "code",
   "execution_count": 24,
   "metadata": {},
   "outputs": [],
   "source": [
    "# Read in chunks\n",
    "\n",
    "first_chunk = True\n",
    "#col_name = ['LOG_DATA_ID','TEST_SECTION_ID','TYPE','KEY','CODE','DATA','INPUT','PRESSED','TIMESTAMP','DEVICE_ORIENTATION','SCREEN_ORIENTATION']\n",
    "for chunk in pd.read_csv('data/raw_data/typingtest_english_2020-06-03/raw_log_data_en_2020-06-03.csv', chunksize=1000000, quoting=2, quotechar='\"', escapechar='\\\\', encoding='ISO-8859-1', low_memory=False):\n",
    "    #process(chunk)\n",
    "    \n",
    "    \n",
    "    #print(\"mem1 original\", chunk.memory_usage(index=True).sum())\n",
    "    # Transform data types\n",
    "    chunk[['LOG_DATA_ID', 'TEST_SECTION_ID']] = chunk[['LOG_DATA_ID', 'TEST_SECTION_ID']].apply(pd.to_numeric, downcast='integer')\n",
    "    chunk[['TIMESTAMP']] = chunk[['TIMESTAMP']].apply(pd.to_numeric)\n",
    "    chunk[[\"TYPE\", \"KEY\", \"EVENT_CODE\"]] = chunk[[\"TYPE\", \"KEY\", \"CODE\"]].astype('category')\n",
    "\n",
    "    #print(chunk.head().dtypes)\n",
    "    #print(\"mem2 data types\", chunk.memory_usage(index=True).sum())\n",
    "        \n",
    "    # Select only wanted test sections\n",
    "    chunk = chunk.loc[chunk['TEST_SECTION_ID'].isin(test_section_list)]\n",
    "\n",
    "    #print(\"mem3 select test sections\", chunk.memory_usage(index=True).sum())\n",
    "    \n",
    "    # Write as CSV file.\n",
    "    #chunk.to_csv('data/processed2019/log_chunks/log_data_mobile.csv', mode='a')\n",
    "    \n",
    "    # Keep only keyups\n",
    "    chunk_filtered = chunk.loc[chunk['TYPE'] == 'keyup']\n",
    "    \n",
    "    #print(\"mem4 only keyup\", chunk_filtered.memory_usage(index=True).sum())\n",
    "    \n",
    "    # Remove unnecessary columns.\n",
    "    chunk_filtered = chunk_filtered[['TEST_SECTION_ID', 'LOG_DATA_ID', 'TIMESTAMP', 'KEY', 'EVENT_CODE','INPUT']]\n",
    "    \n",
    "    #print(\"mem5 remove cols\", chunk_filtered.memory_usage(index=True).sum())\n",
    "\n",
    "    # Order by TEST_SECTION_ID and TIMESTAMP (Order after creating new tables)\n",
    "    chunk_filtered.sort_values(by=['TEST_SECTION_ID','TIMESTAMP'])\n",
    "    \n",
    "    # Write as CSV file.\n",
    "    if first_chunk:\n",
    "        chunk_filtered.to_csv('data/processed2020/english/log_data.csv', mode='w', index=False)\n",
    "        first_chunk = False\n",
    "    else:\n",
    "        chunk_filtered.to_csv('data/processed2020/english/log_data.csv', mode='a', index=False, header=None)\n",
    "        \n",
    "\n",
    "# concat the list into dataframe \n",
    "#df_concat = pd.concat(chunk_list)\n",
    "\n"
   ]
  },
  {
   "cell_type": "code",
   "execution_count": null,
   "metadata": {},
   "outputs": [],
   "source": []
  }
 ],
 "metadata": {
  "kernelspec": {
   "display_name": "Python 3",
   "language": "python",
   "name": "python3"
  },
  "language_info": {
   "codemirror_mode": {
    "name": "ipython",
    "version": 3
   },
   "file_extension": ".py",
   "mimetype": "text/x-python",
   "name": "python",
   "nbconvert_exporter": "python",
   "pygments_lexer": "ipython3",
   "version": "3.7.4"
  },
  "toc": {
   "base_numbering": 1,
   "nav_menu": {},
   "number_sections": true,
   "sideBar": true,
   "skip_h1_title": false,
   "title_cell": "Table of Contents",
   "title_sidebar": "Contents",
   "toc_cell": false,
   "toc_position": {},
   "toc_section_display": true,
   "toc_window_display": true
  },
  "varInspector": {
   "cols": {
    "lenName": 16,
    "lenType": 16,
    "lenVar": 40
   },
   "kernels_config": {
    "python": {
     "delete_cmd_postfix": "",
     "delete_cmd_prefix": "del ",
     "library": "var_list.py",
     "varRefreshCmd": "print(var_dic_list())"
    },
    "r": {
     "delete_cmd_postfix": ") ",
     "delete_cmd_prefix": "rm(",
     "library": "var_list.r",
     "varRefreshCmd": "cat(var_dic_list()) "
    }
   },
   "types_to_exclude": [
    "module",
    "function",
    "builtin_function_or_method",
    "instance",
    "_Feature"
   ],
   "window_display": false
  }
 },
 "nbformat": 4,
 "nbformat_minor": 4
}
